{
 "cells": [
  {
   "cell_type": "code",
   "execution_count": 1,
   "metadata": {},
   "outputs": [],
   "source": [
    "import os\n",
    "import io\n",
    "import sys\n",
    "import matplotlib.pyplot as plt\n",
    "import IPython.display as ipd\n",
    "import pandas as pd\n",
    "import re\n",
    "import subprocess\n",
    "import numpy as np\n",
    "from tqdm import tqdm_notebook as tqdm\n",
    "\n",
    "%load_ext autoreload\n",
    "%autoreload 2\n",
    "%matplotlib inline\n",
    "\n",
    "sys.path.append('../src/audio')"
   ]
  },
  {
   "cell_type": "code",
   "execution_count": 26,
   "metadata": {},
   "outputs": [
    {
     "name": "stdout",
     "output_type": "stream",
     "text": [
      "/media/maxim/Databases/ABAW2024/5th_ABAW_Annotations/VA_Estimation_Challenge/Train_Set 356\n",
      "/media/maxim/Databases/ABAW2024/6th_ABAW_Annotations/VA_Estimation_Challenge/Train_Set 356\n",
      "Intersection:  356\n",
      "set()\n",
      "set()\n",
      "46-30-484x360_left.txt\n",
      "     valence  arousal\n",
      "732    0.255    0.186\n",
      "740    0.204    0.192\n",
      "763    0.123    0.282\n",
      "774    0.129    0.298\n",
      "778    0.117    0.298\n",
      "779    0.073    0.298\n",
      "781    0.000    0.140\n",
      "/media/maxim/Databases/ABAW2024/5th_ABAW_Annotations/VA_Estimation_Challenge/Validation_Set 76\n",
      "/media/maxim/Databases/ABAW2024/6th_ABAW_Annotations/VA_Estimation_Challenge/Validation_Set 76\n",
      "Intersection:  76\n",
      "set()\n",
      "set()\n",
      "/media/maxim/Databases/ABAW2024/5th_ABAW_Annotations/EXPR_Classification_Challenge/Train_Set 248\n",
      "/media/maxim/Databases/ABAW2024/6th_ABAW_Annotations/EXPR_Classification_Challenge/Train_Set 248\n",
      "Intersection:  248\n",
      "set()\n",
      "set()\n",
      "/media/maxim/Databases/ABAW2024/5th_ABAW_Annotations/EXPR_Classification_Challenge/Validation_Set 70\n",
      "/media/maxim/Databases/ABAW2024/6th_ABAW_Annotations/EXPR_Classification_Challenge/Validation_Set 70\n",
      "Intersection:  70\n",
      "set()\n",
      "set()\n"
     ]
    }
   ],
   "source": [
    "abaw_2023_path = '/media/maxim/Databases/ABAW2024/5th_ABAW_Annotations/'\n",
    "abaw_2024_path = '/media/maxim/Databases/ABAW2024/6th_ABAW_Annotations/'\n",
    "\n",
    "challenges = ['VA_Estimation_Challenge', 'EXPR_Classification_Challenge']\n",
    "subsets = ['Train_Set', 'Validation_Set']\n",
    "\n",
    "# EXPR_Recognition_Challenge\n",
    "for challenge in challenges:\n",
    "    for s in subsets:\n",
    "        folder_2023 = os.path.join(abaw_2023_path, challenge, s)\n",
    "        folder_2024 = os.path.join(abaw_2024_path, challenge, s)\n",
    "        files_2023 = os.listdir(folder_2023)\n",
    "        files_2024 = os.listdir(folder_2024)\n",
    "        print(folder_2023, len(files_2023))\n",
    "        print(folder_2024, len(files_2024))\n",
    "\n",
    "        z = list(set(files_2023) & set(files_2024))\n",
    "        print('Intersection: ', len(z))\n",
    "\n",
    "        diff1 = set(files_2023) - set(files_2024)\n",
    "        print(diff1)\n",
    "        diff2 = set(files_2024) - set(files_2023)\n",
    "        print(diff2)\n",
    "\n",
    "        for f in files_2023:\n",
    "            if 'EXPR_Classification_Challenge' in challenge:\n",
    "                labels_2023 = pd.read_csv(os.path.join(folder_2023, f), sep=',', names=['label'], header=0)\n",
    "                labels_2024 = pd.read_csv(os.path.join(folder_2023.replace(abaw_2023_path, abaw_2024_path), f), sep=',', names=['label'], header=0)\n",
    "            else:\n",
    "                labels_2023 = pd.read_csv(os.path.join(folder_2023, f), sep=',')\n",
    "                labels_2024 = pd.read_csv(os.path.join(folder_2023.replace(abaw_2023_path, abaw_2024_path), f), sep=',')\n",
    "\n",
    "            if len(labels_2023) != len(labels_2024):\n",
    "                print(f)\n",
    "                print(df_diff)\n",
    "            \n",
    "            df_diff = pd.concat([labels_2023, labels_2024]).drop_duplicates(keep=False)\n",
    "            if not df_diff.empty:\n",
    "                print(f)\n",
    "                print(df_diff)\n",
    "\n",
    "        \n",
    "    # print(challenge)"
   ]
  },
  {
   "cell_type": "code",
   "execution_count": 38,
   "metadata": {},
   "outputs": [
    {
     "name": "stdout",
     "output_type": "stream",
     "text": [
      "Intersection:  578\n",
      "set()\n",
      "{'475', '453', '457', '482', '456', '452', '460', '485', '474', '481', '483', '455', '451', '472', '454', '473', '484', '458', '471', '459'}\n"
     ]
    }
   ],
   "source": [
    "abaw_2024_path = '/media/maxim/Databases/ABAW2024/data/'\n",
    "\n",
    "aligned_images = os.listdir(os.path.join(abaw_2024_path, 'aligned_images'))\n",
    "aligned_images_proc = []\n",
    "for f in aligned_images:\n",
    "    aligned_images_proc.append(f.split('_left')[0].split('_right')[0])\n",
    "\n",
    "videos = os.listdir(os.path.join(abaw_2024_path, 'videos'))\n",
    "videos_proc = []\n",
    "for f in videos:\n",
    "    videos_proc.append(f.split('.')[0])\n",
    "\n",
    "z = list(set(aligned_images_proc) & set(videos_proc))\n",
    "print('Intersection: ', len(z))\n",
    "\n",
    "diff1 = set(aligned_images_proc) - set(videos_proc)\n",
    "print(diff1)\n",
    "diff2 = set(videos_proc) - set(aligned_images_proc)\n",
    "print(diff2)"
   ]
  },
  {
   "cell_type": "code",
   "execution_count": 39,
   "metadata": {},
   "outputs": [
    {
     "name": "stdout",
     "output_type": "stream",
     "text": [
      "Intersection:  598\n",
      "set()\n",
      "set()\n"
     ]
    }
   ],
   "source": [
    "abaw_2024_path = '/media/maxim/Databases/ABAW2024/data/videos'\n",
    "abaw_2023_path = '/media/maxim/Databases/ABAW2024/data_2023/wav'\n",
    "\n",
    "audios = os.listdir(abaw_2023_path)\n",
    "audios_proc = []\n",
    "for f in audios:\n",
    "    audios_proc.append(f.split('.')[0])\n",
    "\n",
    "videos = os.listdir(abaw_2024_path)\n",
    "videos_proc = []\n",
    "for f in videos:\n",
    "    videos_proc.append(f.split('.')[0])\n",
    "\n",
    "z = list(set(audios_proc) & set(videos_proc))\n",
    "print('Intersection: ', len(z))\n",
    "\n",
    "diff1 = set(audios_proc) - set(videos_proc)\n",
    "print(diff1)\n",
    "diff2 = set(videos_proc) - set(audios_proc)\n",
    "print(diff2)"
   ]
  },
  {
   "cell_type": "code",
   "execution_count": 40,
   "metadata": {},
   "outputs": [
    {
     "name": "stdout",
     "output_type": "stream",
     "text": [
      "Intersection:  578\n",
      "set()\n",
      "{'475', '453', '457', '482', '456', '452', '460', '485', '474', '481', '483', '455', '451', '472', '454', '473', '484', '458', '471', '459'}\n"
     ]
    }
   ],
   "source": [
    "abaw_2024_labs = '/media/maxim/Databases/ABAW2024/6th_ABAW_Annotations/'\n",
    "abaw_2024_path = '/media/maxim/Databases/ABAW2024/data/'\n",
    "\n",
    "labs = os.listdir(abaw_2024_labs)\n",
    "labs_proc = []\n",
    "for f in labs:\n",
    "    labs_proc.append(f.split('_left')[0].split('_right')[0])\n",
    "\n",
    "videos = os.listdir(os.path.join(abaw_2024_path, 'videos'))\n",
    "videos_proc = []\n",
    "for f in videos:\n",
    "    videos_proc.append(f.split('.')[0])\n",
    "\n",
    "z = list(set(aligned_images_proc) & set(videos_proc))\n",
    "print('Intersection: ', len(z))\n",
    "\n",
    "diff1 = set(aligned_images_proc) - set(videos_proc)\n",
    "print(diff1)\n",
    "diff2 = set(videos_proc) - set(aligned_images_proc)\n",
    "print(diff2)"
   ]
  }
 ],
 "metadata": {
  "kernelspec": {
   "display_name": "Python 3 (ipykernel)",
   "language": "python",
   "name": "python3"
  },
  "language_info": {
   "codemirror_mode": {
    "name": "ipython",
    "version": 3
   },
   "file_extension": ".py",
   "mimetype": "text/x-python",
   "name": "python",
   "nbconvert_exporter": "python",
   "pygments_lexer": "ipython3",
   "version": "3.10.12"
  },
  "vscode": {
   "interpreter": {
    "hash": "8a601a5d7575395eaaa3aec0e8ad266ab092a0597c3bef17458ca1ed4c6169b3"
   }
  }
 },
 "nbformat": 4,
 "nbformat_minor": 4
}
